{
 "cells": [
  {
   "cell_type": "markdown",
   "metadata": {},
   "source": [
    "# Loops\n"
   ]
  },
  {
   "cell_type": "code",
   "execution_count": 2,
   "metadata": {},
   "outputs": [],
   "source": [
    "var todos = [\n",
    "    \"clean room\",\n",
    "    \"brush teeth\",\n",
    "    \"exercise\",\n",
    "    \"study javascript\",\n",
    "    \"eat healthy\"\n",
    "];"
   ]
  },
  {
   "cell_type": "code",
   "execution_count": 8,
   "metadata": {},
   "outputs": [
    {
     "data": {
      "text/plain": [
       "[ 'clean room!',\n",
       "  'brush teeth!',\n",
       "  'exercise!',\n",
       "  'study javascript!',\n",
       "  'eat healthy!' ]"
      ]
     },
     "execution_count": 8,
     "metadata": {},
     "output_type": "execute_result"
    }
   ],
   "source": [
    "todos"
   ]
  },
  {
   "cell_type": "code",
   "execution_count": null,
   "metadata": {},
   "outputs": [],
   "source": []
  },
  {
   "cell_type": "markdown",
   "metadata": {},
   "source": [
    "### for() Loop"
   ]
  },
  {
   "cell_type": "code",
   "execution_count": 7,
   "metadata": {},
   "outputs": [
    {
     "name": "stdout",
     "output_type": "stream",
     "text": [
      "clean room!\n",
      "brush teeth!\n",
      "exercise!\n",
      "study javascript!\n",
      "eat healthy!\n"
     ]
    }
   ],
   "source": [
    "//Modify each element in the array\n",
    "for (var i=0; i < todos.length; i++) {\n",
    "    todos[i] = todos[i] + \"!\";\n",
    "    console.log(todos[i]);\n",
    "}"
   ]
  },
  {
   "cell_type": "code",
   "execution_count": 9,
   "metadata": {},
   "outputs": [
    {
     "data": {
      "text/plain": [
       "'clean room!'"
      ]
     },
     "execution_count": 9,
     "metadata": {},
     "output_type": "execute_result"
    }
   ],
   "source": [
    "//Remove elements in the array\n",
    "var todosLength = todos.length\n",
    "for (var i=0; i < todosLength; i++) {\n",
    "    todos.pop();\n",
    "}"
   ]
  },
  {
   "cell_type": "code",
   "execution_count": 10,
   "metadata": {},
   "outputs": [
    {
     "data": {
      "text/plain": [
       "[]"
      ]
     },
     "execution_count": 10,
     "metadata": {},
     "output_type": "execute_result"
    }
   ],
   "source": [
    "todos"
   ]
  },
  {
   "cell_type": "markdown",
   "metadata": {},
   "source": [
    "### while() Loop"
   ]
  },
  {
   "cell_type": "code",
   "execution_count": 16,
   "metadata": {},
   "outputs": [],
   "source": [
    "var counterOne = 10;\n",
    "while (counterOne > 10) {\n",
    "    console.log(\"while\", counterOne);\n",
    "    counterOne--;\n",
    "}"
   ]
  },
  {
   "cell_type": "markdown",
   "metadata": {},
   "source": [
    "### do Loop\n",
    "\n",
    "It is similar to the **while** loop, except a command is executed **first** and **then** the condition is evaluated."
   ]
  },
  {
   "cell_type": "code",
   "execution_count": 17,
   "metadata": {},
   "outputs": [
    {
     "name": "stdout",
     "output_type": "stream",
     "text": [
      "do while 10\n"
     ]
    },
    {
     "data": {
      "text/plain": [
       "10"
      ]
     },
     "execution_count": 17,
     "metadata": {},
     "output_type": "execute_result"
    }
   ],
   "source": [
    "var counterTwo = 10\n",
    "do {\n",
    "    console.log(\"do while\", counterTwo)\n",
    "    counterTwo--;\n",
    "} while (counterTwo > 10);"
   ]
  },
  {
   "cell_type": "markdown",
   "metadata": {},
   "source": [
    "### forEach() Loop\n",
    "\n",
    "**CAVEAT: Be aware of browser compatibility since this is a fairly new standard**"
   ]
  },
  {
   "cell_type": "markdown",
   "metadata": {},
   "source": [
    "***for() versus forEach()***"
   ]
  },
  {
   "cell_type": "code",
   "execution_count": 23,
   "metadata": {},
   "outputs": [],
   "source": [
    "var todos = [\n",
    "    \"clean room\",\n",
    "    \"brush teeth\",\n",
    "    \"exercise\",\n",
    "    \"study javascript\",\n",
    "    \"eat healthy\"\n",
    "];"
   ]
  },
  {
   "cell_type": "code",
   "execution_count": 31,
   "metadata": {},
   "outputs": [],
   "source": [
    "var todosImportant = [\n",
    "    \"clean room!\",\n",
    "    \"brush teeth!\",\n",
    "    \"exercise!\",\n",
    "    \"study javascript!\",\n",
    "    \"eat healthy!\"\n",
    "];"
   ]
  },
  {
   "cell_type": "code",
   "execution_count": 24,
   "metadata": {},
   "outputs": [
    {
     "name": "stdout",
     "output_type": "stream",
     "text": [
      "0\n",
      "1\n",
      "2\n",
      "3\n",
      "4\n"
     ]
    }
   ],
   "source": [
    "//for()\n",
    "var todosLength = todos.length\n",
    "for (var i=0; i < todosLength; i++) {\n",
    "    console.log(i);\n",
    "}"
   ]
  },
  {
   "cell_type": "code",
   "execution_count": 29,
   "metadata": {},
   "outputs": [],
   "source": [
    "function logTodos(todo, i) {\n",
    "    console.log(todo, i);\n",
    "}"
   ]
  },
  {
   "cell_type": "code",
   "execution_count": 33,
   "metadata": {},
   "outputs": [
    {
     "name": "stdout",
     "output_type": "stream",
     "text": [
      "clean room 0\n",
      "brush teeth 1\n",
      "exercise 2\n",
      "study javascript 3\n",
      "eat healthy 4\n",
      "clean room! 0\n",
      "brush teeth! 1\n",
      "exercise! 2\n",
      "study javascript! 3\n",
      "eat healthy! 4\n"
     ]
    }
   ],
   "source": [
    "//forEach()\n",
    "todos.forEach(logTodos);\n",
    "todosImportant.forEach(logTodos);"
   ]
  },
  {
   "cell_type": "code",
   "execution_count": null,
   "metadata": {},
   "outputs": [],
   "source": []
  }
 ],
 "metadata": {
  "kernelspec": {
   "display_name": "Javascript (Node.js)",
   "language": "javascript",
   "name": "javascript"
  },
  "language_info": {
   "file_extension": ".js",
   "mimetype": "application/javascript",
   "name": "javascript",
   "version": "8.9.4"
  }
 },
 "nbformat": 4,
 "nbformat_minor": 2
}
