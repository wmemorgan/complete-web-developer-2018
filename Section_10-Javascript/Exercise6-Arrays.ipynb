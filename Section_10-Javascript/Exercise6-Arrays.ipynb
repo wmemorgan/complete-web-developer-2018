{
 "cells": [
  {
   "cell_type": "markdown",
   "metadata": {},
   "source": [
    "# Exercise: Arrays\n",
    "\n",
    "** using this array,**\n",
    "```javascript\n",
    "var array = [\"Banana\", \"Apples\", \"Oranges\", \"Blueberries\"];\n",
    "```\n",
    "1. Remove the Banana from the array.\n",
    "2. Sort the array in order. \n",
    "3. Put \"Kiwi\" at the end of the array.\n",
    "4. Remove \"Apples\" from the array.\n",
    "5. Sort the array in reverse order. \n",
    "\n",
    "you should have at the end:\n",
    "```\n",
    "[\"Kiwi\", \"Oranges\", \"Blueberries\"]\n",
    "```\n",
    "\n",
    "** using this array,**\n",
    "```javascript\n",
    "var array2 = [\"Banana\", [\"Apples\", [\"Oranges\"], \"Blueberries\"]];\n",
    "```\n",
    "* access \"Oranges\"."
   ]
  },
  {
   "cell_type": "code",
   "execution_count": 17,
   "metadata": {},
   "outputs": [],
   "source": [
    "var array = [\"Banana\", \"Apples\", \"Oranges\", \"Blueberries\"];"
   ]
  },
  {
   "cell_type": "code",
   "execution_count": 18,
   "metadata": {},
   "outputs": [
    {
     "data": {
      "text/plain": [
       "'Banana'"
      ]
     },
     "execution_count": 18,
     "metadata": {},
     "output_type": "execute_result"
    }
   ],
   "source": [
    "//Remove the Banana from the array.\n",
    "array.shift()"
   ]
  },
  {
   "cell_type": "code",
   "execution_count": 19,
   "metadata": {},
   "outputs": [
    {
     "data": {
      "text/plain": [
       "[ 'Apples', 'Oranges', 'Blueberries' ]"
      ]
     },
     "execution_count": 19,
     "metadata": {},
     "output_type": "execute_result"
    }
   ],
   "source": [
    "array"
   ]
  },
  {
   "cell_type": "code",
   "execution_count": 20,
   "metadata": {},
   "outputs": [
    {
     "data": {
      "text/plain": [
       "[ 'Apples', 'Blueberries', 'Oranges' ]"
      ]
     },
     "execution_count": 20,
     "metadata": {},
     "output_type": "execute_result"
    }
   ],
   "source": [
    "// Sort the array in order.\n",
    "array.sort();"
   ]
  },
  {
   "cell_type": "code",
   "execution_count": 21,
   "metadata": {},
   "outputs": [
    {
     "data": {
      "text/plain": [
       "4"
      ]
     },
     "execution_count": 21,
     "metadata": {},
     "output_type": "execute_result"
    }
   ],
   "source": [
    "// Put \"Kiwi\" at the end of the array.\n",
    "array.push(\"Kiwi\");"
   ]
  },
  {
   "cell_type": "code",
   "execution_count": 22,
   "metadata": {},
   "outputs": [
    {
     "data": {
      "text/plain": [
       "[ 'Apples', 'Blueberries', 'Oranges', 'Kiwi' ]"
      ]
     },
     "execution_count": 22,
     "metadata": {},
     "output_type": "execute_result"
    }
   ],
   "source": [
    "array"
   ]
  },
  {
   "cell_type": "code",
   "execution_count": 23,
   "metadata": {},
   "outputs": [
    {
     "data": {
      "text/plain": [
       "[ 'Apples' ]"
      ]
     },
     "execution_count": 23,
     "metadata": {},
     "output_type": "execute_result"
    }
   ],
   "source": [
    "//Remove the 'Apples' from the array.\n",
    "//array.shift()\n",
    "array.splice(0, 1);"
   ]
  },
  {
   "cell_type": "code",
   "execution_count": 24,
   "metadata": {},
   "outputs": [
    {
     "data": {
      "text/plain": [
       "[ 'Blueberries', 'Oranges', 'Kiwi' ]"
      ]
     },
     "execution_count": 24,
     "metadata": {},
     "output_type": "execute_result"
    }
   ],
   "source": [
    "array"
   ]
  },
  {
   "cell_type": "code",
   "execution_count": 14,
   "metadata": {},
   "outputs": [
    {
     "data": {
      "text/plain": [
       "[ 'Kiwi', 'Oranges', 'Blueberries' ]"
      ]
     },
     "execution_count": 14,
     "metadata": {},
     "output_type": "execute_result"
    }
   ],
   "source": [
    "array.reverse();"
   ]
  },
  {
   "cell_type": "code",
   "execution_count": 25,
   "metadata": {},
   "outputs": [],
   "source": [
    "var array2 = [\"Banana\", [\"Apples\", [\"Oranges\"], \"Blueberries\"]];"
   ]
  },
  {
   "cell_type": "code",
   "execution_count": 26,
   "metadata": {},
   "outputs": [
    {
     "data": {
      "text/plain": [
       "'Oranges'"
      ]
     },
     "execution_count": 26,
     "metadata": {},
     "output_type": "execute_result"
    }
   ],
   "source": [
    "array2[1][1][0];"
   ]
  },
  {
   "cell_type": "code",
   "execution_count": null,
   "metadata": {},
   "outputs": [],
   "source": []
  }
 ],
 "metadata": {
  "kernelspec": {
   "display_name": "Javascript (Node.js)",
   "language": "javascript",
   "name": "javascript"
  },
  "language_info": {
   "file_extension": ".js",
   "mimetype": "application/javascript",
   "name": "javascript",
   "version": "8.9.4"
  }
 },
 "nbformat": 4,
 "nbformat_minor": 2
}
